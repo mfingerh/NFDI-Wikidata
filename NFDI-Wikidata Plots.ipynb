{
 "cells": [
  {
   "cell_type": "markdown",
   "id": "4b5a117b-af95-4f9c-b450-25b62056653f",
   "metadata": {},
   "source": [
    "# Query Wikidata"
   ]
  },
  {
   "cell_type": "code",
   "execution_count": null,
   "id": "f0a3c8d6-26ac-4fc9-8c0c-5e3349455d89",
   "metadata": {},
   "outputs": [],
   "source": [
    "import pandas as pd\n",
    "\n",
    "from pandas.io.json import json_normalize\n",
    "from SPARQLWrapper import SPARQLWrapper, JSON"
   ]
  },
  {
   "cell_type": "code",
   "execution_count": null,
   "id": "efdd445b-b53d-4bdd-aed0-8b577afe0be0",
   "metadata": {},
   "outputs": [],
   "source": [
    "def query_wikidata(sparql_query, sparql_service_url):\n",
    "    \"\"\"\n",
    "    Query the endpoint with the given query string and return the results as a pandas Dataframe.\n",
    "    \"\"\"\n",
    "    # create the connection to the endpoint\n",
    "    # Wikidata enforces now a strict User-Agent policy, we need to specify the agent\n",
    "    # See here https://www.wikidata.org/wiki/Wikidata:Project_chat/Archive/2019/07#problems_with_query_API\n",
    "    # https://meta.wikimedia.org/wiki/User-Agent_policy\n",
    "    # Please adapt this when running\n",
    "    sparql = SPARQLWrapper(sparql_service_url, agent=\"https://github.com/mfingerh\")  \n",
    "    \n",
    "    sparql.setQuery(sparql_query)\n",
    "    sparql.setReturnFormat(JSON)\n",
    "\n",
    "    # ask for the result\n",
    "    result = sparql.query().convert()\n",
    "    return json_normalize(result[\"results\"][\"bindings\"])"
   ]
  },
  {
   "cell_type": "code",
   "execution_count": null,
   "id": "861b0337-ec94-4c8f-a4da-f7e8205c4964",
   "metadata": {},
   "outputs": [],
   "source": [
    "# suppresses a future warning the query evokes\n",
    "import warnings\n",
    "warnings.simplefilter(action='ignore', category=FutureWarning)\n",
    "\n",
    "# perfirn sparqle query\n",
    "sparql_query = \"\"\"\n",
    "SELECT DISTINCT ?p ?pLabel ?affiliationTypeLabel ?w ?wLabel WHERE {\n",
    "  ?p wdt:P31 wd:Q98270496;\n",
    "    p:P1416 ?statement.\n",
    "  ?statement ps:P1416 ?w.\n",
    "  OPTIONAL { ?statement pq:P3831 ?affiliationType. }\n",
    "  SERVICE wikibase:label { bd:serviceParam wikibase:language \"en\". }\n",
    "}\n",
    "ORDER BY DESC (?wLabel) \n",
    "    \"\"\"\n",
    "#to query another endpoint, change the URL for the service and the query\n",
    "sparql_service_url = \"https://query.wikidata.org/sparql\"\n",
    "result_table = query_wikidata(sparql_query, sparql_service_url)\n",
    "\n"
   ]
  },
  {
   "cell_type": "markdown",
   "id": "b55b18b1",
   "metadata": {},
   "source": [
    "# Reformating and selecting data"
   ]
  },
  {
   "cell_type": "code",
   "execution_count": null,
   "id": "5a9127cf",
   "metadata": {},
   "outputs": [],
   "source": [
    "result_table.rename(columns = {'affiliationTypeLabel.value':'Rolle', 'wLabel.value':'Einrichtung'}, inplace = True)"
   ]
  },
  {
   "cell_type": "code",
   "execution_count": null,
   "id": "0394351c",
   "metadata": {},
   "outputs": [],
   "source": [
    "crosstab = pd.crosstab(\n",
    "    index=result_table['Einrichtung'],\n",
    "    columns=result_table['Rolle'],\n",
    ")"
   ]
  },
  {
   "cell_type": "code",
   "execution_count": null,
   "id": "75afe5b2",
   "metadata": {},
   "outputs": [],
   "source": [
    "# cecking everything worked\n",
    "crosstab.head()"
   ]
  },
  {
   "cell_type": "code",
   "execution_count": null,
   "id": "cd2919fc",
   "metadata": {},
   "outputs": [],
   "source": [
    "# list of columns to be considered for calculating sum, can be changed to consider eg. only applicants and co-applicants\n",
    "columns = ['applicant', 'co-applicant', 'participant']"
   ]
  },
  {
   "cell_type": "code",
   "execution_count": null,
   "id": "7fd951cc",
   "metadata": {},
   "outputs": [],
   "source": [
    "# calculating sums of roles to enable ordering\n",
    "crosstab['sum'] = crosstab[columns].sum(axis=1, numeric_only=True)"
   ]
  },
  {
   "cell_type": "code",
   "execution_count": null,
   "id": "c0ba3c34",
   "metadata": {},
   "outputs": [],
   "source": [
    "# ordering by sum from most to least consortia\n",
    "crosstab = crosstab.sort_values(by=['sum'], ascending=False)"
   ]
  },
  {
   "cell_type": "code",
   "execution_count": null,
   "id": "fede09c5",
   "metadata": {},
   "outputs": [],
   "source": [
    "# filtering by sum to have a threshold for plotted entries\n",
    "crosstab = crosstab[crosstab[columns].sum(axis=1, numeric_only=True) > 4]"
   ]
  },
  {
   "cell_type": "code",
   "execution_count": null,
   "id": "c00d026b",
   "metadata": {},
   "outputs": [],
   "source": [
    "# removing sum column as it's not needed for plotting\n",
    "crosstab = crosstab.drop(['sum'], axis=1)"
   ]
  },
  {
   "cell_type": "code",
   "execution_count": null,
   "id": "8f324f75",
   "metadata": {},
   "outputs": [],
   "source": [
    "crosstab.head()"
   ]
  },
  {
   "cell_type": "markdown",
   "id": "d6e40b10",
   "metadata": {},
   "source": [
    "# Barplot"
   ]
  },
  {
   "cell_type": "code",
   "execution_count": null,
   "id": "cc3f5719",
   "metadata": {},
   "outputs": [],
   "source": [
    "# plotting\n",
    "crosstab.plot.bar(stacked=True, figsize=(30,34), fontsize = 20, position = (0.3),width=0.9, title = 'Beteiligung an der NFDI in nach der dritten Ausschreibungsrunde')"
   ]
  }
 ],
 "metadata": {
  "kernelspec": {
   "display_name": "Python 3 (ipykernel)",
   "language": "python",
   "name": "python3"
  },
  "language_info": {
   "codemirror_mode": {
    "name": "ipython",
    "version": 3
   },
   "file_extension": ".py",
   "mimetype": "text/x-python",
   "name": "python",
   "nbconvert_exporter": "python",
   "pygments_lexer": "ipython3",
   "version": "3.9.13"
  }
 },
 "nbformat": 4,
 "nbformat_minor": 5
}
